{
 "cells": [
  {
   "cell_type": "code",
   "execution_count": 10,
   "id": "c2509dae",
   "metadata": {},
   "outputs": [
    {
     "data": {
      "text/html": [
       "<div>\n",
       "<style scoped>\n",
       "    .dataframe tbody tr th:only-of-type {\n",
       "        vertical-align: middle;\n",
       "    }\n",
       "\n",
       "    .dataframe tbody tr th {\n",
       "        vertical-align: top;\n",
       "    }\n",
       "\n",
       "    .dataframe thead th {\n",
       "        text-align: right;\n",
       "    }\n",
       "</style>\n",
       "<table border=\"1\" class=\"dataframe\">\n",
       "  <thead>\n",
       "    <tr style=\"text-align: right;\">\n",
       "      <th></th>\n",
       "      <th>tripduration</th>\n",
       "      <th>starttime</th>\n",
       "      <th>stoptime</th>\n",
       "      <th>start station id</th>\n",
       "      <th>start station name</th>\n",
       "      <th>start station latitude</th>\n",
       "      <th>start station longitude</th>\n",
       "      <th>end station id</th>\n",
       "      <th>end station name</th>\n",
       "      <th>end station latitude</th>\n",
       "      <th>end station longitude</th>\n",
       "      <th>bikeid</th>\n",
       "      <th>usertype</th>\n",
       "      <th>birth year</th>\n",
       "      <th>gender</th>\n",
       "    </tr>\n",
       "  </thead>\n",
       "  <tbody>\n",
       "    <tr>\n",
       "      <th>0</th>\n",
       "      <td>695</td>\n",
       "      <td>2013-06-01 00:00:01</td>\n",
       "      <td>2013-06-01 00:11:36</td>\n",
       "      <td>444</td>\n",
       "      <td>Broadway &amp; W 24 St</td>\n",
       "      <td>40.742354</td>\n",
       "      <td>-73.989151</td>\n",
       "      <td>434.0</td>\n",
       "      <td>9 Ave &amp; W 18 St</td>\n",
       "      <td>40.743174</td>\n",
       "      <td>-74.003664</td>\n",
       "      <td>19678</td>\n",
       "      <td>Subscriber</td>\n",
       "      <td>1983.0</td>\n",
       "      <td>1</td>\n",
       "    </tr>\n",
       "    <tr>\n",
       "      <th>1</th>\n",
       "      <td>693</td>\n",
       "      <td>2013-06-01 00:00:08</td>\n",
       "      <td>2013-06-01 00:11:41</td>\n",
       "      <td>444</td>\n",
       "      <td>Broadway &amp; W 24 St</td>\n",
       "      <td>40.742354</td>\n",
       "      <td>-73.989151</td>\n",
       "      <td>434.0</td>\n",
       "      <td>9 Ave &amp; W 18 St</td>\n",
       "      <td>40.743174</td>\n",
       "      <td>-74.003664</td>\n",
       "      <td>16649</td>\n",
       "      <td>Subscriber</td>\n",
       "      <td>1984.0</td>\n",
       "      <td>1</td>\n",
       "    </tr>\n",
       "    <tr>\n",
       "      <th>2</th>\n",
       "      <td>2059</td>\n",
       "      <td>2013-06-01 00:00:44</td>\n",
       "      <td>2013-06-01 00:35:03</td>\n",
       "      <td>406</td>\n",
       "      <td>Hicks St &amp; Montague St</td>\n",
       "      <td>40.695128</td>\n",
       "      <td>-73.995951</td>\n",
       "      <td>406.0</td>\n",
       "      <td>Hicks St &amp; Montague St</td>\n",
       "      <td>40.695128</td>\n",
       "      <td>-73.995951</td>\n",
       "      <td>19599</td>\n",
       "      <td>Customer</td>\n",
       "      <td>NaN</td>\n",
       "      <td>0</td>\n",
       "    </tr>\n",
       "    <tr>\n",
       "      <th>3</th>\n",
       "      <td>123</td>\n",
       "      <td>2013-06-01 00:01:04</td>\n",
       "      <td>2013-06-01 00:03:07</td>\n",
       "      <td>475</td>\n",
       "      <td>E 15 St &amp; Irving Pl</td>\n",
       "      <td>40.735243</td>\n",
       "      <td>-73.987586</td>\n",
       "      <td>262.0</td>\n",
       "      <td>Washington Park</td>\n",
       "      <td>40.691782</td>\n",
       "      <td>-73.973730</td>\n",
       "      <td>16352</td>\n",
       "      <td>Subscriber</td>\n",
       "      <td>1960.0</td>\n",
       "      <td>1</td>\n",
       "    </tr>\n",
       "    <tr>\n",
       "      <th>4</th>\n",
       "      <td>1521</td>\n",
       "      <td>2013-06-01 00:01:22</td>\n",
       "      <td>2013-06-01 00:26:43</td>\n",
       "      <td>2008</td>\n",
       "      <td>Little West St &amp; 1 Pl</td>\n",
       "      <td>40.705693</td>\n",
       "      <td>-74.016777</td>\n",
       "      <td>310.0</td>\n",
       "      <td>State St &amp; Smith St</td>\n",
       "      <td>40.689269</td>\n",
       "      <td>-73.989129</td>\n",
       "      <td>15567</td>\n",
       "      <td>Subscriber</td>\n",
       "      <td>1983.0</td>\n",
       "      <td>1</td>\n",
       "    </tr>\n",
       "  </tbody>\n",
       "</table>\n",
       "</div>"
      ],
      "text/plain": [
       "   tripduration            starttime             stoptime  start station id  \\\n",
       "0           695  2013-06-01 00:00:01  2013-06-01 00:11:36               444   \n",
       "1           693  2013-06-01 00:00:08  2013-06-01 00:11:41               444   \n",
       "2          2059  2013-06-01 00:00:44  2013-06-01 00:35:03               406   \n",
       "3           123  2013-06-01 00:01:04  2013-06-01 00:03:07               475   \n",
       "4          1521  2013-06-01 00:01:22  2013-06-01 00:26:43              2008   \n",
       "\n",
       "       start station name  start station latitude  start station longitude  \\\n",
       "0      Broadway & W 24 St               40.742354               -73.989151   \n",
       "1      Broadway & W 24 St               40.742354               -73.989151   \n",
       "2  Hicks St & Montague St               40.695128               -73.995951   \n",
       "3     E 15 St & Irving Pl               40.735243               -73.987586   \n",
       "4   Little West St & 1 Pl               40.705693               -74.016777   \n",
       "\n",
       "   end station id        end station name  end station latitude  \\\n",
       "0           434.0         9 Ave & W 18 St             40.743174   \n",
       "1           434.0         9 Ave & W 18 St             40.743174   \n",
       "2           406.0  Hicks St & Montague St             40.695128   \n",
       "3           262.0         Washington Park             40.691782   \n",
       "4           310.0     State St & Smith St             40.689269   \n",
       "\n",
       "   end station longitude  bikeid    usertype  birth year  gender  \n",
       "0             -74.003664   19678  Subscriber      1983.0       1  \n",
       "1             -74.003664   16649  Subscriber      1984.0       1  \n",
       "2             -73.995951   19599    Customer         NaN       0  \n",
       "3             -73.973730   16352  Subscriber      1960.0       1  \n",
       "4             -73.989129   15567  Subscriber      1983.0       1  "
      ]
     },
     "execution_count": 10,
     "metadata": {},
     "output_type": "execute_result"
    }
   ],
   "source": [
    "import pandas as pd\n",
    "import numpy as np\n",
    "import random as rnd\n",
    "import seaborn as sns\n",
    "import scipy as sp\n",
    "import plotly.offline as py\n",
    "import plotly.graph_objs as go\n",
    "from plotly import tools\n",
    "from plotly.offline import download_plotlyjs, init_notebook_mode, plot, iplot\n",
    "import matplotlib.pyplot as plt\n",
    "import missingno as msno\n",
    "%matplotlib inline\n",
    "import warnings\n",
    "citi_bike = pd.read_csv(\"/Users/mansikhanna/Downloads/201306-citibike-tripdata.csv\",encoding='cp1252')\n",
    "citi_bike.head()"
   ]
  },
  {
   "cell_type": "code",
   "execution_count": 2,
   "id": "8fd42748",
   "metadata": {},
   "outputs": [
    {
     "name": "stdout",
     "output_type": "stream",
     "text": [
      "<class 'pandas.core.frame.DataFrame'>\n",
      "RangeIndex: 577703 entries, 0 to 577702\n",
      "Data columns (total 15 columns):\n",
      " #   Column                   Non-Null Count   Dtype  \n",
      "---  ------                   --------------   -----  \n",
      " 0   tripduration             577703 non-null  int64  \n",
      " 1   starttime                577703 non-null  object \n",
      " 2   stoptime                 577703 non-null  object \n",
      " 3   start station id         577703 non-null  int64  \n",
      " 4   start station name       577703 non-null  object \n",
      " 5   start station latitude   577703 non-null  float64\n",
      " 6   start station longitude  577703 non-null  float64\n",
      " 7   end station id           559644 non-null  float64\n",
      " 8   end station name         559644 non-null  object \n",
      " 9   end station latitude     559644 non-null  float64\n",
      " 10  end station longitude    559644 non-null  float64\n",
      " 11  bikeid                   577703 non-null  int64  \n",
      " 12  usertype                 577703 non-null  object \n",
      " 13  birth year               337382 non-null  float64\n",
      " 14  gender                   577703 non-null  int64  \n",
      "dtypes: float64(6), int64(4), object(5)\n",
      "memory usage: 66.1+ MB\n"
     ]
    }
   ],
   "source": [
    "citi_bike.info()"
   ]
  },
  {
   "cell_type": "code",
   "execution_count": 3,
   "id": "b68e5968",
   "metadata": {},
   "outputs": [
    {
     "data": {
      "text/html": [
       "<div>\n",
       "<style scoped>\n",
       "    .dataframe tbody tr th:only-of-type {\n",
       "        vertical-align: middle;\n",
       "    }\n",
       "\n",
       "    .dataframe tbody tr th {\n",
       "        vertical-align: top;\n",
       "    }\n",
       "\n",
       "    .dataframe thead th {\n",
       "        text-align: right;\n",
       "    }\n",
       "</style>\n",
       "<table border=\"1\" class=\"dataframe\">\n",
       "  <thead>\n",
       "    <tr style=\"text-align: right;\">\n",
       "      <th></th>\n",
       "      <th>count</th>\n",
       "      <th>mean</th>\n",
       "      <th>std</th>\n",
       "      <th>min</th>\n",
       "      <th>25%</th>\n",
       "      <th>50%</th>\n",
       "      <th>75%</th>\n",
       "      <th>max</th>\n",
       "    </tr>\n",
       "  </thead>\n",
       "  <tbody>\n",
       "    <tr>\n",
       "      <th>tripduration</th>\n",
       "      <td>577703.0</td>\n",
       "      <td>1372.570279</td>\n",
       "      <td>9028.063033</td>\n",
       "      <td>61.000000</td>\n",
       "      <td>514.000000</td>\n",
       "      <td>874.000000</td>\n",
       "      <td>1398.000000</td>\n",
       "      <td>3.876479e+06</td>\n",
       "    </tr>\n",
       "    <tr>\n",
       "      <th>start station id</th>\n",
       "      <td>577703.0</td>\n",
       "      <td>439.228836</td>\n",
       "      <td>337.240318</td>\n",
       "      <td>72.000000</td>\n",
       "      <td>309.000000</td>\n",
       "      <td>404.000000</td>\n",
       "      <td>482.000000</td>\n",
       "      <td>3.020000e+03</td>\n",
       "    </tr>\n",
       "    <tr>\n",
       "      <th>start station latitude</th>\n",
       "      <td>577703.0</td>\n",
       "      <td>40.732436</td>\n",
       "      <td>0.021423</td>\n",
       "      <td>40.646607</td>\n",
       "      <td>40.717400</td>\n",
       "      <td>40.734546</td>\n",
       "      <td>40.749013</td>\n",
       "      <td>4.077152e+01</td>\n",
       "    </tr>\n",
       "    <tr>\n",
       "      <th>start station longitude</th>\n",
       "      <td>577703.0</td>\n",
       "      <td>-73.991251</td>\n",
       "      <td>0.013002</td>\n",
       "      <td>-74.017134</td>\n",
       "      <td>-74.001768</td>\n",
       "      <td>-73.990741</td>\n",
       "      <td>-73.981948</td>\n",
       "      <td>-7.395005e+01</td>\n",
       "    </tr>\n",
       "    <tr>\n",
       "      <th>end station id</th>\n",
       "      <td>559644.0</td>\n",
       "      <td>441.910624</td>\n",
       "      <td>345.448311</td>\n",
       "      <td>72.000000</td>\n",
       "      <td>309.000000</td>\n",
       "      <td>403.000000</td>\n",
       "      <td>482.000000</td>\n",
       "      <td>3.020000e+03</td>\n",
       "    </tr>\n",
       "    <tr>\n",
       "      <th>end station latitude</th>\n",
       "      <td>559644.0</td>\n",
       "      <td>40.732146</td>\n",
       "      <td>0.021507</td>\n",
       "      <td>40.646607</td>\n",
       "      <td>40.716887</td>\n",
       "      <td>40.734232</td>\n",
       "      <td>40.748549</td>\n",
       "      <td>4.077152e+01</td>\n",
       "    </tr>\n",
       "    <tr>\n",
       "      <th>end station longitude</th>\n",
       "      <td>559644.0</td>\n",
       "      <td>-73.991244</td>\n",
       "      <td>0.013105</td>\n",
       "      <td>-74.017134</td>\n",
       "      <td>-74.001971</td>\n",
       "      <td>-73.990741</td>\n",
       "      <td>-73.981923</td>\n",
       "      <td>-7.395005e+01</td>\n",
       "    </tr>\n",
       "    <tr>\n",
       "      <th>bikeid</th>\n",
       "      <td>577703.0</td>\n",
       "      <td>17617.434516</td>\n",
       "      <td>1677.518719</td>\n",
       "      <td>14529.000000</td>\n",
       "      <td>16161.000000</td>\n",
       "      <td>17638.000000</td>\n",
       "      <td>19066.000000</td>\n",
       "      <td>2.062500e+04</td>\n",
       "    </tr>\n",
       "    <tr>\n",
       "      <th>birth year</th>\n",
       "      <td>337382.0</td>\n",
       "      <td>1974.644945</td>\n",
       "      <td>10.780255</td>\n",
       "      <td>1899.000000</td>\n",
       "      <td>1968.000000</td>\n",
       "      <td>1977.000000</td>\n",
       "      <td>1983.000000</td>\n",
       "      <td>1.997000e+03</td>\n",
       "    </tr>\n",
       "    <tr>\n",
       "      <th>gender</th>\n",
       "      <td>577703.0</td>\n",
       "      <td>0.710431</td>\n",
       "      <td>0.678268</td>\n",
       "      <td>0.000000</td>\n",
       "      <td>0.000000</td>\n",
       "      <td>1.000000</td>\n",
       "      <td>1.000000</td>\n",
       "      <td>2.000000e+00</td>\n",
       "    </tr>\n",
       "  </tbody>\n",
       "</table>\n",
       "</div>"
      ],
      "text/plain": [
       "                            count          mean          std           min  \\\n",
       "tripduration             577703.0   1372.570279  9028.063033     61.000000   \n",
       "start station id         577703.0    439.228836   337.240318     72.000000   \n",
       "start station latitude   577703.0     40.732436     0.021423     40.646607   \n",
       "start station longitude  577703.0    -73.991251     0.013002    -74.017134   \n",
       "end station id           559644.0    441.910624   345.448311     72.000000   \n",
       "end station latitude     559644.0     40.732146     0.021507     40.646607   \n",
       "end station longitude    559644.0    -73.991244     0.013105    -74.017134   \n",
       "bikeid                   577703.0  17617.434516  1677.518719  14529.000000   \n",
       "birth year               337382.0   1974.644945    10.780255   1899.000000   \n",
       "gender                   577703.0      0.710431     0.678268      0.000000   \n",
       "\n",
       "                                  25%           50%           75%  \\\n",
       "tripduration               514.000000    874.000000   1398.000000   \n",
       "start station id           309.000000    404.000000    482.000000   \n",
       "start station latitude      40.717400     40.734546     40.749013   \n",
       "start station longitude    -74.001768    -73.990741    -73.981948   \n",
       "end station id             309.000000    403.000000    482.000000   \n",
       "end station latitude        40.716887     40.734232     40.748549   \n",
       "end station longitude      -74.001971    -73.990741    -73.981923   \n",
       "bikeid                   16161.000000  17638.000000  19066.000000   \n",
       "birth year                1968.000000   1977.000000   1983.000000   \n",
       "gender                       0.000000      1.000000      1.000000   \n",
       "\n",
       "                                  max  \n",
       "tripduration             3.876479e+06  \n",
       "start station id         3.020000e+03  \n",
       "start station latitude   4.077152e+01  \n",
       "start station longitude -7.395005e+01  \n",
       "end station id           3.020000e+03  \n",
       "end station latitude     4.077152e+01  \n",
       "end station longitude   -7.395005e+01  \n",
       "bikeid                   2.062500e+04  \n",
       "birth year               1.997000e+03  \n",
       "gender                   2.000000e+00  "
      ]
     },
     "execution_count": 3,
     "metadata": {},
     "output_type": "execute_result"
    }
   ],
   "source": [
    "citi_bike.describe().T"
   ]
  },
  {
   "cell_type": "code",
   "execution_count": 4,
   "id": "863946d2",
   "metadata": {},
   "outputs": [
    {
     "data": {
      "text/plain": [
       "(577703, 15)"
      ]
     },
     "execution_count": 4,
     "metadata": {},
     "output_type": "execute_result"
    }
   ],
   "source": [
    "citi_bike.shape"
   ]
  },
  {
   "cell_type": "code",
   "execution_count": 5,
   "id": "7b13a279",
   "metadata": {},
   "outputs": [
    {
     "data": {
      "text/plain": [
       "Index(['tripduration', 'starttime', 'stoptime', 'start station id',\n",
       "       'start station name', 'start station latitude',\n",
       "       'start station longitude', 'end station id', 'end station name',\n",
       "       'end station latitude', 'end station longitude', 'bikeid', 'usertype',\n",
       "       'birth year', 'gender'],\n",
       "      dtype='object')"
      ]
     },
     "execution_count": 5,
     "metadata": {},
     "output_type": "execute_result"
    }
   ],
   "source": [
    "#checking all columns\n",
    "\n",
    "citi_bike.columns"
   ]
  },
  {
   "cell_type": "code",
   "execution_count": 6,
   "id": "f009955e",
   "metadata": {},
   "outputs": [
    {
     "name": "stdout",
     "output_type": "stream",
     "text": [
      "Number of Categorical Columns:  5\n",
      "Number of Numerical Columns:  10\n"
     ]
    }
   ],
   "source": [
    "print('Number of Categorical Columns: ', len(citi_bike.select_dtypes(include=object).columns))\n",
    "print('Number of Numerical Columns: ', len(citi_bike.select_dtypes(exclude=object).columns))"
   ]
  },
  {
   "cell_type": "code",
   "execution_count": 7,
   "id": "c80b29bb",
   "metadata": {},
   "outputs": [
    {
     "data": {
      "text/plain": [
       "tripduration                12305\n",
       "starttime                  475295\n",
       "stoptime                   475805\n",
       "start station id              337\n",
       "start station name            337\n",
       "start station latitude        337\n",
       "start station longitude       337\n",
       "end station id                337\n",
       "end station name              337\n",
       "end station latitude          337\n",
       "end station longitude         337\n",
       "bikeid                       5794\n",
       "usertype                        2\n",
       "birth year                     76\n",
       "gender                          3\n",
       "dtype: int64"
      ]
     },
     "execution_count": 7,
     "metadata": {},
     "output_type": "execute_result"
    }
   ],
   "source": [
    "#Checking unique values in each column\n",
    "citi_bike.nunique()"
   ]
  },
  {
   "cell_type": "code",
   "execution_count": 8,
   "id": "000f87fa",
   "metadata": {},
   "outputs": [
    {
     "data": {
      "text/plain": [
       "tripduration               False\n",
       "starttime                  False\n",
       "stoptime                   False\n",
       "start station id           False\n",
       "start station name         False\n",
       "start station latitude     False\n",
       "start station longitude    False\n",
       "end station id              True\n",
       "end station name            True\n",
       "end station latitude        True\n",
       "end station longitude       True\n",
       "bikeid                     False\n",
       "usertype                   False\n",
       "birth year                  True\n",
       "gender                     False\n",
       "dtype: bool"
      ]
     },
     "execution_count": 8,
     "metadata": {},
     "output_type": "execute_result"
    }
   ],
   "source": [
    "citi_bike.isnull().any()"
   ]
  },
  {
   "cell_type": "code",
   "execution_count": 11,
   "id": "b1dbf7b3",
   "metadata": {},
   "outputs": [
    {
     "data": {
      "text/plain": [
       "<AxesSubplot:>"
      ]
     },
     "execution_count": 11,
     "metadata": {},
     "output_type": "execute_result"
    },
    {
     "data": {
      "image/png": "[encoded data removed]",
      "text/plain": [
       "<Figure size 3600x1800 with 3 Axes>"
      ]
     },
     "metadata": {
      "needs_background": "light"
     },
     "output_type": "display_data"
    }
   ],
   "source": [
    "msno.bar(citi_bike.sample( 475805 ),(50,25),color='orange')"
   ]
  },
  {
   "cell_type": "code",
   "execution_count": 12,
   "id": "51ef3c33",
   "metadata": {},
   "outputs": [
    {
     "data": {
      "text/plain": [
       "tripduration                    0\n",
       "starttime                       0\n",
       "stoptime                        0\n",
       "start station id                0\n",
       "start station name              0\n",
       "start station latitude          0\n",
       "start station longitude         0\n",
       "end station id              18059\n",
       "end station name            18059\n",
       "end station latitude        18059\n",
       "end station longitude       18059\n",
       "bikeid                          0\n",
       "usertype                        0\n",
       "birth year                 240321\n",
       "gender                          0\n",
       "dtype: int64"
      ]
     },
     "execution_count": 12,
     "metadata": {},
     "output_type": "execute_result"
    }
   ],
   "source": [
    "\n",
    "citi_bike.isnull().sum()"
   ]
  },
  {
   "cell_type": "code",
   "execution_count": 14,
   "id": "d8872b65",
   "metadata": {},
   "outputs": [
    {
     "name": "stdout",
     "output_type": "stream",
     "text": [
      "They are same\n"
     ]
    }
   ],
   "source": [
    "missing_1 = citi_bike[citi_bike['end station id'].isnull()].index.tolist()\n",
    "missing_2 = citi_bike[citi_bike['end station longitude'].isnull()].index.tolist()\n",
    "if missing_1 == missing_2:\n",
    "    print('They are same')\n",
    "else:\n",
    "    print('They are different')"
   ]
  },
  {
   "cell_type": "code",
   "execution_count": 15,
   "id": "79bf3f9a",
   "metadata": {},
   "outputs": [],
   "source": [
    "citi_bike.drop(citi_bike.index[missing_1],inplace =True)"
   ]
  },
  {
   "cell_type": "code",
   "execution_count": 16,
   "id": "6de86000",
   "metadata": {},
   "outputs": [
    {
     "data": {
      "text/plain": [
       "tripduration                    0\n",
       "starttime                       0\n",
       "stoptime                        0\n",
       "start station id                0\n",
       "start station name              0\n",
       "start station latitude          0\n",
       "start station longitude         0\n",
       "end station id                  0\n",
       "end station name                0\n",
       "end station latitude            0\n",
       "end station longitude           0\n",
       "bikeid                          0\n",
       "usertype                        0\n",
       "birth year                 232803\n",
       "gender                          0\n",
       "dtype: int64"
      ]
     },
     "execution_count": 16,
     "metadata": {},
     "output_type": "execute_result"
    }
   ],
   "source": [
    "citi_bike.isnull().sum()"
   ]
  },
  {
   "cell_type": "code",
   "execution_count": null,
   "id": "a111a661",
   "metadata": {},
   "outputs": [],
   "source": []
  }
 ],
 "metadata": {
  "kernelspec": {
   "display_name": "Python 3",
   "language": "python",
   "name": "python3"
  },
  "language_info": {
   "codemirror_mode": {
    "name": "ipython",
    "version": 3
   },
   "file_extension": ".py",
   "mimetype": "text/x-python",
   "name": "python",
   "nbconvert_exporter": "python",
   "pygments_lexer": "ipython3",
   "version": "3.8.8"
  }
 },
 "nbformat": 4,
 "nbformat_minor": 5
}
