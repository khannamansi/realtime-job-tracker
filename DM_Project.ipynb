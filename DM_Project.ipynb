{
 "cells": [
  {
   "cell_type": "code",
   "execution_count": 3,
   "metadata": {
    "id": "RQoPvHb7ZVSD"
   },
   "outputs": [],
   "source": [
    "import pandas as pd\n",
    "import numpy as np\n",
    "import random as rnd\n",
    "import seaborn as sns\n",
    "import scipy as sp\n",
    "import plotly.offline as py\n",
    "import plotly.graph_objs as go\n",
    "from plotly import tools\n",
    "from plotly.offline import download_plotlyjs, init_notebook_mode, plot, iplot\n",
    "import matplotlib.pyplot as plt\n",
    "import missingno as msno\n",
    "%matplotlib inline\n",
    "import warnings\n",
    "warnings.filterwarnings('ignore')"
   ]
  },
  {
   "cell_type": "code",
   "execution_count": 4,
   "metadata": {
    "colab": {
     "base_uri": "https://localhost:8080/",
     "height": 353
    },
    "id": "a4C1OAcjZlcK",
    "outputId": "79517354-7c07-4dc7-bea4-e42cbb5fa8d2"
   },
   "outputs": [
    {
     "ename": "FileNotFoundError",
     "evalue": "ignored",
     "output_type": "error",
     "traceback": [
      "\u001b[0;31m---------------------------------------------------------------------------\u001b[0m",
      "\u001b[0;31mFileNotFoundError\u001b[0m                         Traceback (most recent call last)",
      "\u001b[0;32m<ipython-input-4-776d561fe79b>\u001b[0m in \u001b[0;36m<module>\u001b[0;34m()\u001b[0m\n\u001b[0;32m----> 1\u001b[0;31m \u001b[0mfifa\u001b[0m \u001b[0;34m=\u001b[0m \u001b[0mpd\u001b[0m\u001b[0;34m.\u001b[0m\u001b[0mread_csv\u001b[0m\u001b[0;34m(\u001b[0m\u001b[0;34m\"/Users/mansikhanna/Downloads/FifaDataset.csv\"\u001b[0m\u001b[0;34m,\u001b[0m\u001b[0mencoding\u001b[0m\u001b[0;34m=\u001b[0m\u001b[0;34m'cp1252'\u001b[0m\u001b[0;34m)\u001b[0m\u001b[0;34m\u001b[0m\u001b[0;34m\u001b[0m\u001b[0m\n\u001b[0m\u001b[1;32m      2\u001b[0m \u001b[0mfifa\u001b[0m\u001b[0;34m.\u001b[0m\u001b[0mhead\u001b[0m\u001b[0;34m(\u001b[0m\u001b[0;34m)\u001b[0m\u001b[0;34m\u001b[0m\u001b[0;34m\u001b[0m\u001b[0m\n",
      "\u001b[0;32m/usr/local/lib/python3.7/dist-packages/pandas/util/_decorators.py\u001b[0m in \u001b[0;36mwrapper\u001b[0;34m(*args, **kwargs)\u001b[0m\n\u001b[1;32m    309\u001b[0m                     \u001b[0mstacklevel\u001b[0m\u001b[0;34m=\u001b[0m\u001b[0mstacklevel\u001b[0m\u001b[0;34m,\u001b[0m\u001b[0;34m\u001b[0m\u001b[0;34m\u001b[0m\u001b[0m\n\u001b[1;32m    310\u001b[0m                 )\n\u001b[0;32m--> 311\u001b[0;31m             \u001b[0;32mreturn\u001b[0m \u001b[0mfunc\u001b[0m\u001b[0;34m(\u001b[0m\u001b[0;34m*\u001b[0m\u001b[0margs\u001b[0m\u001b[0;34m,\u001b[0m \u001b[0;34m**\u001b[0m\u001b[0mkwargs\u001b[0m\u001b[0;34m)\u001b[0m\u001b[0;34m\u001b[0m\u001b[0;34m\u001b[0m\u001b[0m\n\u001b[0m\u001b[1;32m    312\u001b[0m \u001b[0;34m\u001b[0m\u001b[0m\n\u001b[1;32m    313\u001b[0m         \u001b[0;32mreturn\u001b[0m \u001b[0mwrapper\u001b[0m\u001b[0;34m\u001b[0m\u001b[0;34m\u001b[0m\u001b[0m\n",
      "\u001b[0;32m/usr/local/lib/python3.7/dist-packages/pandas/io/parsers/readers.py\u001b[0m in \u001b[0;36mread_csv\u001b[0;34m(filepath_or_buffer, sep, delimiter, header, names, index_col, usecols, squeeze, prefix, mangle_dupe_cols, dtype, engine, converters, true_values, false_values, skipinitialspace, skiprows, skipfooter, nrows, na_values, keep_default_na, na_filter, verbose, skip_blank_lines, parse_dates, infer_datetime_format, keep_date_col, date_parser, dayfirst, cache_dates, iterator, chunksize, compression, thousands, decimal, lineterminator, quotechar, quoting, doublequote, escapechar, comment, encoding, encoding_errors, dialect, error_bad_lines, warn_bad_lines, on_bad_lines, delim_whitespace, low_memory, memory_map, float_precision, storage_options)\u001b[0m\n\u001b[1;32m    584\u001b[0m     \u001b[0mkwds\u001b[0m\u001b[0;34m.\u001b[0m\u001b[0mupdate\u001b[0m\u001b[0;34m(\u001b[0m\u001b[0mkwds_defaults\u001b[0m\u001b[0;34m)\u001b[0m\u001b[0;34m\u001b[0m\u001b[0;34m\u001b[0m\u001b[0m\n\u001b[1;32m    585\u001b[0m \u001b[0;34m\u001b[0m\u001b[0m\n\u001b[0;32m--> 586\u001b[0;31m     \u001b[0;32mreturn\u001b[0m \u001b[0m_read\u001b[0m\u001b[0;34m(\u001b[0m\u001b[0mfilepath_or_buffer\u001b[0m\u001b[0;34m,\u001b[0m \u001b[0mkwds\u001b[0m\u001b[0;34m)\u001b[0m\u001b[0;34m\u001b[0m\u001b[0;34m\u001b[0m\u001b[0m\n\u001b[0m\u001b[1;32m    587\u001b[0m \u001b[0;34m\u001b[0m\u001b[0m\n\u001b[1;32m    588\u001b[0m \u001b[0;34m\u001b[0m\u001b[0m\n",
      "\u001b[0;32m/usr/local/lib/python3.7/dist-packages/pandas/io/parsers/readers.py\u001b[0m in \u001b[0;36m_read\u001b[0;34m(filepath_or_buffer, kwds)\u001b[0m\n\u001b[1;32m    480\u001b[0m \u001b[0;34m\u001b[0m\u001b[0m\n\u001b[1;32m    481\u001b[0m     \u001b[0;31m# Create the parser.\u001b[0m\u001b[0;34m\u001b[0m\u001b[0;34m\u001b[0m\u001b[0;34m\u001b[0m\u001b[0m\n\u001b[0;32m--> 482\u001b[0;31m     \u001b[0mparser\u001b[0m \u001b[0;34m=\u001b[0m \u001b[0mTextFileReader\u001b[0m\u001b[0;34m(\u001b[0m\u001b[0mfilepath_or_buffer\u001b[0m\u001b[0;34m,\u001b[0m \u001b[0;34m**\u001b[0m\u001b[0mkwds\u001b[0m\u001b[0;34m)\u001b[0m\u001b[0;34m\u001b[0m\u001b[0;34m\u001b[0m\u001b[0m\n\u001b[0m\u001b[1;32m    483\u001b[0m \u001b[0;34m\u001b[0m\u001b[0m\n\u001b[1;32m    484\u001b[0m     \u001b[0;32mif\u001b[0m \u001b[0mchunksize\u001b[0m \u001b[0;32mor\u001b[0m \u001b[0miterator\u001b[0m\u001b[0;34m:\u001b[0m\u001b[0;34m\u001b[0m\u001b[0;34m\u001b[0m\u001b[0m\n",
      "\u001b[0;32m/usr/local/lib/python3.7/dist-packages/pandas/io/parsers/readers.py\u001b[0m in \u001b[0;36m__init__\u001b[0;34m(self, f, engine, **kwds)\u001b[0m\n\u001b[1;32m    809\u001b[0m             \u001b[0mself\u001b[0m\u001b[0;34m.\u001b[0m\u001b[0moptions\u001b[0m\u001b[0;34m[\u001b[0m\u001b[0;34m\"has_index_names\"\u001b[0m\u001b[0;34m]\u001b[0m \u001b[0;34m=\u001b[0m \u001b[0mkwds\u001b[0m\u001b[0;34m[\u001b[0m\u001b[0;34m\"has_index_names\"\u001b[0m\u001b[0;34m]\u001b[0m\u001b[0;34m\u001b[0m\u001b[0;34m\u001b[0m\u001b[0m\n\u001b[1;32m    810\u001b[0m \u001b[0;34m\u001b[0m\u001b[0m\n\u001b[0;32m--> 811\u001b[0;31m         \u001b[0mself\u001b[0m\u001b[0;34m.\u001b[0m\u001b[0m_engine\u001b[0m \u001b[0;34m=\u001b[0m \u001b[0mself\u001b[0m\u001b[0;34m.\u001b[0m\u001b[0m_make_engine\u001b[0m\u001b[0;34m(\u001b[0m\u001b[0mself\u001b[0m\u001b[0;34m.\u001b[0m\u001b[0mengine\u001b[0m\u001b[0;34m)\u001b[0m\u001b[0;34m\u001b[0m\u001b[0;34m\u001b[0m\u001b[0m\n\u001b[0m\u001b[1;32m    812\u001b[0m \u001b[0;34m\u001b[0m\u001b[0m\n\u001b[1;32m    813\u001b[0m     \u001b[0;32mdef\u001b[0m \u001b[0mclose\u001b[0m\u001b[0;34m(\u001b[0m\u001b[0mself\u001b[0m\u001b[0;34m)\u001b[0m\u001b[0;34m:\u001b[0m\u001b[0;34m\u001b[0m\u001b[0;34m\u001b[0m\u001b[0m\n",
      "\u001b[0;32m/usr/local/lib/python3.7/dist-packages/pandas/io/parsers/readers.py\u001b[0m in \u001b[0;36m_make_engine\u001b[0;34m(self, engine)\u001b[0m\n\u001b[1;32m   1038\u001b[0m             )\n\u001b[1;32m   1039\u001b[0m         \u001b[0;31m# error: Too many arguments for \"ParserBase\"\u001b[0m\u001b[0;34m\u001b[0m\u001b[0;34m\u001b[0m\u001b[0;34m\u001b[0m\u001b[0m\n\u001b[0;32m-> 1040\u001b[0;31m         \u001b[0;32mreturn\u001b[0m \u001b[0mmapping\u001b[0m\u001b[0;34m[\u001b[0m\u001b[0mengine\u001b[0m\u001b[0;34m]\u001b[0m\u001b[0;34m(\u001b[0m\u001b[0mself\u001b[0m\u001b[0;34m.\u001b[0m\u001b[0mf\u001b[0m\u001b[0;34m,\u001b[0m \u001b[0;34m**\u001b[0m\u001b[0mself\u001b[0m\u001b[0;34m.\u001b[0m\u001b[0moptions\u001b[0m\u001b[0;34m)\u001b[0m  \u001b[0;31m# type: ignore[call-arg]\u001b[0m\u001b[0;34m\u001b[0m\u001b[0;34m\u001b[0m\u001b[0m\n\u001b[0m\u001b[1;32m   1041\u001b[0m \u001b[0;34m\u001b[0m\u001b[0m\n\u001b[1;32m   1042\u001b[0m     \u001b[0;32mdef\u001b[0m \u001b[0m_failover_to_python\u001b[0m\u001b[0;34m(\u001b[0m\u001b[0mself\u001b[0m\u001b[0;34m)\u001b[0m\u001b[0;34m:\u001b[0m\u001b[0;34m\u001b[0m\u001b[0;34m\u001b[0m\u001b[0m\n",
      "\u001b[0;32m/usr/local/lib/python3.7/dist-packages/pandas/io/parsers/c_parser_wrapper.py\u001b[0m in \u001b[0;36m__init__\u001b[0;34m(self, src, **kwds)\u001b[0m\n\u001b[1;32m     49\u001b[0m \u001b[0;34m\u001b[0m\u001b[0m\n\u001b[1;32m     50\u001b[0m         \u001b[0;31m# open handles\u001b[0m\u001b[0;34m\u001b[0m\u001b[0;34m\u001b[0m\u001b[0;34m\u001b[0m\u001b[0m\n\u001b[0;32m---> 51\u001b[0;31m         \u001b[0mself\u001b[0m\u001b[0;34m.\u001b[0m\u001b[0m_open_handles\u001b[0m\u001b[0;34m(\u001b[0m\u001b[0msrc\u001b[0m\u001b[0;34m,\u001b[0m \u001b[0mkwds\u001b[0m\u001b[0;34m)\u001b[0m\u001b[0;34m\u001b[0m\u001b[0;34m\u001b[0m\u001b[0m\n\u001b[0m\u001b[1;32m     52\u001b[0m         \u001b[0;32massert\u001b[0m \u001b[0mself\u001b[0m\u001b[0;34m.\u001b[0m\u001b[0mhandles\u001b[0m \u001b[0;32mis\u001b[0m \u001b[0;32mnot\u001b[0m \u001b[0;32mNone\u001b[0m\u001b[0;34m\u001b[0m\u001b[0;34m\u001b[0m\u001b[0m\n\u001b[1;32m     53\u001b[0m \u001b[0;34m\u001b[0m\u001b[0m\n",
      "\u001b[0;32m/usr/local/lib/python3.7/dist-packages/pandas/io/parsers/base_parser.py\u001b[0m in \u001b[0;36m_open_handles\u001b[0;34m(self, src, kwds)\u001b[0m\n\u001b[1;32m    227\u001b[0m             \u001b[0mmemory_map\u001b[0m\u001b[0;34m=\u001b[0m\u001b[0mkwds\u001b[0m\u001b[0;34m.\u001b[0m\u001b[0mget\u001b[0m\u001b[0;34m(\u001b[0m\u001b[0;34m\"memory_map\"\u001b[0m\u001b[0;34m,\u001b[0m \u001b[0;32mFalse\u001b[0m\u001b[0;34m)\u001b[0m\u001b[0;34m,\u001b[0m\u001b[0;34m\u001b[0m\u001b[0;34m\u001b[0m\u001b[0m\n\u001b[1;32m    228\u001b[0m             \u001b[0mstorage_options\u001b[0m\u001b[0;34m=\u001b[0m\u001b[0mkwds\u001b[0m\u001b[0;34m.\u001b[0m\u001b[0mget\u001b[0m\u001b[0;34m(\u001b[0m\u001b[0;34m\"storage_options\"\u001b[0m\u001b[0;34m,\u001b[0m \u001b[0;32mNone\u001b[0m\u001b[0;34m)\u001b[0m\u001b[0;34m,\u001b[0m\u001b[0;34m\u001b[0m\u001b[0;34m\u001b[0m\u001b[0m\n\u001b[0;32m--> 229\u001b[0;31m             \u001b[0merrors\u001b[0m\u001b[0;34m=\u001b[0m\u001b[0mkwds\u001b[0m\u001b[0;34m.\u001b[0m\u001b[0mget\u001b[0m\u001b[0;34m(\u001b[0m\u001b[0;34m\"encoding_errors\"\u001b[0m\u001b[0;34m,\u001b[0m \u001b[0;34m\"strict\"\u001b[0m\u001b[0;34m)\u001b[0m\u001b[0;34m,\u001b[0m\u001b[0;34m\u001b[0m\u001b[0;34m\u001b[0m\u001b[0m\n\u001b[0m\u001b[1;32m    230\u001b[0m         )\n\u001b[1;32m    231\u001b[0m \u001b[0;34m\u001b[0m\u001b[0m\n",
      "\u001b[0;32m/usr/local/lib/python3.7/dist-packages/pandas/io/common.py\u001b[0m in \u001b[0;36mget_handle\u001b[0;34m(path_or_buf, mode, encoding, compression, memory_map, is_text, errors, storage_options)\u001b[0m\n\u001b[1;32m    705\u001b[0m                 \u001b[0mencoding\u001b[0m\u001b[0;34m=\u001b[0m\u001b[0mioargs\u001b[0m\u001b[0;34m.\u001b[0m\u001b[0mencoding\u001b[0m\u001b[0;34m,\u001b[0m\u001b[0;34m\u001b[0m\u001b[0;34m\u001b[0m\u001b[0m\n\u001b[1;32m    706\u001b[0m                 \u001b[0merrors\u001b[0m\u001b[0;34m=\u001b[0m\u001b[0merrors\u001b[0m\u001b[0;34m,\u001b[0m\u001b[0;34m\u001b[0m\u001b[0;34m\u001b[0m\u001b[0m\n\u001b[0;32m--> 707\u001b[0;31m                 \u001b[0mnewline\u001b[0m\u001b[0;34m=\u001b[0m\u001b[0;34m\"\"\u001b[0m\u001b[0;34m,\u001b[0m\u001b[0;34m\u001b[0m\u001b[0;34m\u001b[0m\u001b[0m\n\u001b[0m\u001b[1;32m    708\u001b[0m             )\n\u001b[1;32m    709\u001b[0m         \u001b[0;32melse\u001b[0m\u001b[0;34m:\u001b[0m\u001b[0;34m\u001b[0m\u001b[0;34m\u001b[0m\u001b[0m\n",
      "\u001b[0;31mFileNotFoundError\u001b[0m: [Errno 2] No such file or directory: '/Users/mansikhanna/Downloads/FifaDataset.csv'"
     ]
    }
   ],
   "source": [
    "fifa = pd.read_csv(\"/Users/mansikhanna/Downloads/FifaDataset.csv\",encoding='cp1252')\n",
    "fifa.head()"
   ]
  },
  {
   "cell_type": "code",
   "execution_count": null,
   "metadata": {
    "id": "teZOgyXZbkQI"
   },
   "outputs": [],
   "source": [
    "fifa.info()"
   ]
  },
  {
   "cell_type": "markdown",
   "metadata": {
    "id": "0EU9V7OD87VJ"
   },
   "source": [
    "We have 12.4 MB's dataset. It includes three kind of datatypes: float, int and object."
   ]
  },
  {
   "cell_type": "code",
   "execution_count": null,
   "metadata": {
    "id": "dhhy_Cj06XMU"
   },
   "outputs": [],
   "source": [
    "fifa.describe().T"
   ]
  },
  {
   "cell_type": "code",
   "execution_count": null,
   "metadata": {
    "id": "RVMHvn5i9oLG"
   },
   "outputs": [],
   "source": [
    "fifa.shape"
   ]
  },
  {
   "cell_type": "markdown",
   "metadata": {
    "id": "73nosRgr91yP"
   },
   "source": [
    "So, We have a total of 18,207 rows & 89 columns, which includes 45 categorical features and 44 numerical features."
   ]
  },
  {
   "cell_type": "code",
   "execution_count": null,
   "metadata": {
    "id": "Q_niE6TH3gHO"
   },
   "outputs": [],
   "source": [
    "#checking all columns\n",
    "\n",
    "fifa.columns"
   ]
  },
  {
   "cell_type": "code",
   "execution_count": null,
   "metadata": {
    "id": "lqK5YIuy7qDu"
   },
   "outputs": [],
   "source": [
    "print('Number of Categorical Columns: ', len(fifa.select_dtypes(include=object).columns))\n",
    "print('Number of Numerical Columns: ', len(fifa.select_dtypes(exclude=object).columns))"
   ]
  },
  {
   "cell_type": "code",
   "execution_count": null,
   "metadata": {
    "id": "5QuAq9h_-UAo"
   },
   "outputs": [],
   "source": [
    "#Checking unique values in each column\n",
    "fifa.nunique()"
   ]
  },
  {
   "cell_type": "code",
   "execution_count": null,
   "metadata": {
    "id": "HD6v-fRU3BKF"
   },
   "outputs": [],
   "source": [
    "fifa.isnull().any()"
   ]
  },
  {
   "cell_type": "markdown",
   "metadata": {
    "id": "kRSrRKN435kO"
   },
   "source": [
    "\n",
    "\n",
    "  **After understanding the basic description of our data, we now go ahead with the cleaning, EDA and preprocessing part.**\n",
    "\n",
    "\n",
    "\n",
    "\n",
    "\n"
   ]
  },
  {
   "cell_type": "code",
   "execution_count": null,
   "metadata": {
    "id": "_HPrpoAc3mlB"
   },
   "outputs": [],
   "source": [
    "msno.bar(fifa.sample( 18207 ),(50,25),color='orange')"
   ]
  },
  {
   "cell_type": "markdown",
   "metadata": {
    "id": "BkcS4De55OHY"
   },
   "source": [
    "In the above graph, we see that the columns RB to LS have same number of missing values.\n",
    "And, the variable 'Loaned From' has most of the values missing in the column, which is obvious because not every player is loaned in their football career."
   ]
  },
  {
   "cell_type": "code",
   "execution_count": null,
   "metadata": {
    "id": "A0KfsLFQ5juP"
   },
   "outputs": [],
   "source": [
    "\n",
    "fifa.isnull().sum()"
   ]
  },
  {
   "cell_type": "markdown",
   "metadata": {
    "id": "YND-mjp68bSS"
   },
   "source": [
    "48 is repeating many times. Let's check if the same rows are null throughout all these columns"
   ]
  },
  {
   "cell_type": "code",
   "execution_count": null,
   "metadata": {
    "id": "j2xVa3Qg8lAs"
   },
   "outputs": [],
   "source": [
    "missing_1 = fifa[fifa['GKHandling'].isnull()].index.tolist()\n",
    "missing_2 = fifa[fifa['GKReflexes'].isnull()].index.tolist()\n",
    "if missing_1 == missing_2:\n",
    "    print('They are same')\n",
    "else:\n",
    "    print('They are different')"
   ]
  },
  {
   "cell_type": "markdown",
   "metadata": {
    "id": "kIf_ffSw9EsK"
   },
   "source": [
    "As they are same we can confidently assume that it will be same for other all columns too."
   ]
  },
  {
   "cell_type": "code",
   "execution_count": null,
   "metadata": {
    "id": "-PQHEM6V9PyQ"
   },
   "outputs": [],
   "source": [
    "fifa.drop(fifa.index[missing_1],inplace =True)"
   ]
  },
  {
   "cell_type": "code",
   "execution_count": null,
   "metadata": {
    "id": "QD3ULHdP9kru"
   },
   "outputs": [],
   "source": [
    "fifa.isnull().sum()"
   ]
  },
  {
   "cell_type": "markdown",
   "metadata": {
    "id": "aLDrf1Y79r-I"
   },
   "source": [
    "We assumed it correctly and now we have fewer null values as we can see."
   ]
  },
  {
   "cell_type": "code",
   "execution_count": null,
   "metadata": {
    "id": "RMEq7Jqa9x26"
   },
   "outputs": [],
   "source": [
    "#Removing the other columns that have major null values, and are not significant for our classification analysis.\n",
    "\n",
    "fifa.drop(['Loaned From','Release Clause','Joined'],axis=1,inplace=True)"
   ]
  },
  {
   "cell_type": "markdown",
   "metadata": {
    "id": "7w1RHklR_FR6"
   },
   "source": [
    "Let's see the best player as per all the different performance attributes mentioned in the dataframe:-"
   ]
  },
  {
   "cell_type": "code",
   "execution_count": null,
   "metadata": {
    "id": "V8JuOn5n_O6_"
   },
   "outputs": [],
   "source": [
    "pr_cols=['Crossing', 'Finishing', 'HeadingAccuracy', 'ShortPassing', 'Volleys',\n",
    "       'Dribbling', 'Curve', 'FKAccuracy', 'LongPassing', 'BallControl',\n",
    "       'Acceleration', 'SprintSpeed', 'Agility', 'Reactions', 'Balance',\n",
    "       'ShotPower', 'Jumping', 'Stamina', 'Strength', 'LongShots',\n",
    "       'Aggression', 'Interceptions', 'Positioning', 'Vision', 'Penalties',\n",
    "       'Composure', 'Marking', 'StandingTackle', 'SlidingTackle', 'GKDiving',\n",
    "       'GKHandling', 'GKKicking', 'GKPositioning', 'GKReflexes']\n",
    "print('Best player in different aspects:')\n",
    "\n",
    "i=0\n",
    "while i < len(pr_cols):\n",
    "    print('Best {0} : {1}'.format(pr_cols[i],fifa.loc[fifa[pr_cols[i]].idxmax()]['Name']))\n",
    "    i += 1"
   ]
  },
  {
   "cell_type": "markdown",
   "metadata": {
    "id": "MSYHpaC5B6eF"
   },
   "source": [
    "**Converting categorical features to appropriate numerical features**"
   ]
  },
  {
   "cell_type": "code",
   "execution_count": null,
   "metadata": {
    "id": "_2D6hJ8MCKIB"
   },
   "outputs": [],
   "source": [
    "# Function to convert value and wage of the player.\n",
    "\n",
    "def currencyConverter(val):\n",
    "    if val[-1] == 'M':\n",
    "        val = val[1:-1]\n",
    "        val = float(val) * 1000000\n",
    "        return val\n",
    "        \n",
    "    elif val[-1] == 'K':\n",
    "        val = val[1:-1]\n",
    "        val = float(val) * 1000\n",
    "        return val\n",
    "    \n",
    "    else:\n",
    "        return 0"
   ]
  },
  {
   "cell_type": "code",
   "execution_count": null,
   "metadata": {
    "id": "e9FIRcrxF-7L"
   },
   "outputs": [],
   "source": [
    "fifa['Value in Pounds'] = fifa['Value'].apply(currencyConverter)\n",
    "fifa['Wage in Pounds'] = fifa['Wage'].apply(currencyConverter)\n",
    "\n",
    "fifa.drop(columns=['Value', 'Wage'], inplace=True)\n"
   ]
  },
  {
   "cell_type": "code",
   "execution_count": null,
   "metadata": {
    "id": "f4ZtYQgIGXWO"
   },
   "outputs": [],
   "source": [
    "#Converting height to cms, & converting weight to int\n",
    "\n",
    "def height_converter(val):\n",
    "    f = val.split(\"'\")[0]\n",
    "    i = val.split(\"'\")[1]\n",
    "    h = (int(f) * 30.48) + (int(i)*2.54)\n",
    "    return h\n",
    "\n",
    "def weight_converter(val):\n",
    "    w = int(val.split('lbs')[0])\n",
    "    return w"
   ]
  },
  {
   "cell_type": "code",
   "execution_count": null,
   "metadata": {
    "id": "ZatdsTjQHJuL"
   },
   "outputs": [],
   "source": [
    "fifa['Height in Cms'] = fifa['Height'].apply(height_converter)\n",
    "fifa['Weight in Pounds'] = fifa['Weight'].apply(weight_converter)\n",
    "\n",
    "fifa.drop(columns=['Height', 'Weight'], inplace=True)\n",
    "fifa[['Height in Cms', 'Weight in Pounds']].head()"
   ]
  },
  {
   "cell_type": "code",
   "execution_count": null,
   "metadata": {
    "id": "sQw3bM03G-6W"
   },
   "outputs": [],
   "source": [
    "fifa[['Height in Cms', 'Weight in Pounds','Value in Pounds','Wage in Pounds']].head()"
   ]
  },
  {
   "cell_type": "code",
   "execution_count": null,
   "metadata": {
    "id": "_6vEYe55JDUP"
   },
   "outputs": [],
   "source": [
    "fifa[['LS', 'ST', 'RS', 'LW', 'LF', 'CF', 'RF', 'RW', 'LAM', 'CAM',\n",
    "       'RAM', 'LM', 'LCM', 'CM', 'RCM', 'RM', 'LWB', 'LDM', 'CDM', 'RDM',\n",
    "       'RWB', 'LB', 'LCB', 'CB', 'RCB', 'RB']].head()"
   ]
  },
  {
   "cell_type": "code",
   "execution_count": null,
   "metadata": {
    "id": "t5r94tIiJOVo"
   },
   "outputs": [],
   "source": [
    "#Let's convert the rating at each position to int\n",
    "\n",
    "def ratingConverter(val):\n",
    "    if type(val) == str:\n",
    "        s1 = val[0:2]\n",
    "        s2 = val[-1]\n",
    "        val = int(s1) + int(s2)\n",
    "        return val\n",
    "    \n",
    "    else:\n",
    "        return val"
   ]
  },
  {
   "cell_type": "code",
   "execution_count": null,
   "metadata": {
    "id": "7LyhnP3iJWvN"
   },
   "outputs": [],
   "source": [
    "skill_columns = ['LS', 'ST', 'RS', 'LW', 'LF', 'CF', 'RF', 'RW', 'LAM', 'CAM',\n",
    "       'RAM', 'LM', 'LCM', 'CM', 'RCM', 'RM', 'LWB', 'LDM', 'CDM', 'RDM',\n",
    "       'RWB', 'LB', 'LCB', 'CB', 'RCB', 'RB']\n",
    "                      \n",
    "for col in skill_columns:\n",
    "    fifa[col] = fifa[col].apply(ratingConverter)"
   ]
  },
  {
   "cell_type": "code",
   "execution_count": null,
   "metadata": {
    "id": "Wm54u7eMJj1p"
   },
   "outputs": [],
   "source": [
    "fifa[['LS', 'ST', 'RS', 'LW', 'LF', 'CF', 'RF', 'RW', 'LAM', 'CAM',\n",
    "       'RAM', 'LM', 'LCM', 'CM', 'RCM', 'RM', 'LWB', 'LDM', 'CDM', 'RDM',\n",
    "       'RWB', 'LB', 'LCB', 'CB', 'RCB', 'RB']].head()"
   ]
  },
  {
   "cell_type": "code",
   "execution_count": null,
   "metadata": {
    "id": "tjQ8CTPO7p7L"
   },
   "outputs": [],
   "source": [
    "# Let's plot a histogram to understand the age distribution of players\n",
    "\n",
    "sns.set(style =\"dark\", palette=\"rocket\", color_codes=True)\n",
    "x = fifa.Age\n",
    "plt.figure(figsize=(15,10))\n",
    "ax = sns.distplot(x, bins = 58, kde = False, color='b')\n",
    "ax.set_xlabel(xlabel=\"Player\\'s age\", fontsize=16)\n",
    "ax.set_ylabel(ylabel='Number of players', fontsize=16)\n",
    "ax.set_title(label='Histogram of players age', fontsize=20)\n",
    "plt.show()"
   ]
  },
  {
   "cell_type": "markdown",
   "metadata": {
    "id": "Hh3DWdS6HjkX"
   },
   "source": [
    "We see that maximum players lie in the age category of 21 to 27"
   ]
  },
  {
   "cell_type": "code",
   "execution_count": null,
   "metadata": {
    "id": "qns_SjzpHqmt"
   },
   "outputs": [],
   "source": [
    "# Let's plot a histogram to understand the distribution of overall ratings of players\n",
    "\n",
    "sns.set(style =\"dark\", palette=\"rocket\", color_codes=True)\n",
    "x = fifa.Overall\n",
    "plt.figure(figsize=(15,10))\n",
    "ax = sns.distplot(x, bins = 40, kde = False, color='r')\n",
    "ax.set_xlabel(xlabel=\"Player\\'s overall\", fontsize=16)\n",
    "ax.set_ylabel(ylabel='Number of players', fontsize=16)\n",
    "ax.set_title(label='Histogram of players overall ratings', fontsize=20)\n",
    "plt.show()"
   ]
  },
  {
   "cell_type": "markdown",
   "metadata": {
    "id": "AUnpDaBOOwa1"
   },
   "source": [
    "We see that the mean of overall ratings is around 65"
   ]
  },
  {
   "cell_type": "code",
   "execution_count": null,
   "metadata": {
    "id": "Ra5YBJToQ2ws"
   },
   "outputs": [],
   "source": [
    "p=sns.jointplot(x=fifa['Age'],y=fifa['Potential'], \n",
    "              joint_kws={'alpha':0.1,'s':5,'color':'green'},\n",
    "              marginal_kws={'color':'green'})\n",
    "p.fig.suptitle(\"Age vs Potential\")\n",
    "\n",
    "\n",
    "q=sns.lmplot(data = fifa, x = 'Age', y = 'SprintSpeed',lowess=True,scatter_kws={'alpha':0.01, 's':5,'color':'blue'}, \n",
    "           line_kws={'color':'red'})\n",
    "q.fig.suptitle(\"Age vs Sprint\")"
   ]
  },
  {
   "cell_type": "markdown",
   "metadata": {
    "id": "RYrU0auNRETs"
   },
   "source": [
    "We see that the potential decreases as the age increases, which is again intuitive."
   ]
  },
  {
   "cell_type": "code",
   "execution_count": null,
   "metadata": {
    "id": "625phAEqT1jj"
   },
   "outputs": [],
   "source": [
    "fig = tools.make_subplots(rows=1, cols=2)\n",
    "\n",
    "aa = go.Histogram(x=fifa['Height in Cms'], nbinsx=25, opacity=0.7, name='Height in cms')\n",
    "bb = go.Histogram(x=fifa['Weight in Pounds'], nbinsx=30, opacity=0.7, name='Weight in Pounds')\n",
    "\n",
    "fig.append_trace(aa, 1,1)\n",
    "fig.append_trace(bb, 1,2)\n",
    "\n",
    "fig['layout'].update(title='<b>Height & Weight Distribution</b>', \\\n",
    "                     xaxis=dict(automargin=True),\n",
    "                     yaxis=dict(title='<b><i>Count</b></i>')\n",
    "                    )\n",
    "py.iplot(fig)"
   ]
  },
  {
   "cell_type": "markdown",
   "metadata": {
    "id": "tl6elNJQUU4_"
   },
   "source": [
    "Majority of the players' height lie in the range of 175cms to 190cms.\n",
    "\n",
    "\n",
    "\n",
    "Majority of the players' weight lie in the range of 150lbs to 174lbs."
   ]
  },
  {
   "cell_type": "markdown",
   "metadata": {
    "id": "NDQA2uTPWPi3"
   },
   "source": [
    "\n",
    "\n",
    "---\n",
    "\n",
    "\n",
    "\n",
    "---\n",
    "\n",
    "\n",
    "Now we see player distribution across Countries"
   ]
  },
  {
   "cell_type": "code",
   "execution_count": null,
   "metadata": {
    "id": "sy0Due2nWngX"
   },
   "outputs": [],
   "source": [
    "df_nations = fifa.groupby(by='Nationality').size().reset_index()\n",
    "df_nations.columns = ['Nation', 'Count']\n",
    "\n",
    "df_nations[(df_nations['Nation'] == 'England') | (df_nations['Nation'] == 'Wales') \n",
    "           | (df_nations['Nation'] == 'Scotland') | (df_nations['Nation'] == 'Northern Ireland') ]"
   ]
  },
  {
   "cell_type": "code",
   "execution_count": null,
   "metadata": {
    "id": "8P39Y4KNXILM"
   },
   "outputs": [],
   "source": [
    "df_temp = pd.DataFrame(data= [['United Kingdom', 2148]], columns=['Nation', 'Count'])\n",
    "df_nations = df_nations.append(df_temp, ignore_index=True)\n",
    "df_nations.tail()"
   ]
  },
  {
   "cell_type": "markdown",
   "metadata": {
    "id": "pr0vlFglXjhT"
   },
   "source": [
    "Adding values of England, Northern Ireland, Scotland and Wales under 'United Kingdom', as our choropleth map considers the following countries as a whole which are included in the United Kingdom.\n",
    "\n",
    "\n",
    "---\n",
    "\n",
    "\n",
    "We hover over the map to confirm the same."
   ]
  },
  {
   "cell_type": "code",
   "execution_count": null,
   "metadata": {
    "id": "AcTbUKzKXreM"
   },
   "outputs": [],
   "source": [
    "countrymap = dict(type='choropleth',\n",
    "              locations=df_nations['Nation'],\n",
    "              z=df_nations['Count'],\n",
    "              locationmode='country names',\n",
    "              colorscale='Portland'\n",
    "             )\n",
    "\n",
    "layout = go.Layout(title='<b>Number of Players in each Country</b>',\n",
    "                   geo=dict(showocean=True,\n",
    "                            oceancolor='#AEDFDF',\n",
    "                            projection=dict(type='natural earth'),\n",
    "                        )\n",
    "                  )\n",
    "\n",
    "fig = go.Figure(data=[countrymap], layout=layout)\n",
    "py.iplot(fig)"
   ]
  },
  {
   "cell_type": "markdown",
   "metadata": {
    "id": "tPsKHE4tYAmZ"
   },
   "source": [
    "So we see that most players are from European and South American countries.\n",
    "\n",
    "Top 5 countries -\n",
    "\n",
    "Engalnd - 1657\n",
    "\n",
    "Germany - 1195\n",
    "\n",
    "Spain - 1071\n",
    "\n",
    "Argentina - 936\n",
    "\n",
    "France - 911\n",
    "\n",
    "Hover over the red spot on the map to get the value of United Kingdom which includes England, Scotland, Northern Ireland and Wales."
   ]
  },
  {
   "cell_type": "code",
   "execution_count": null,
   "metadata": {
    "id": "M8n-xInjYbjh"
   },
   "outputs": [],
   "source": []
  },
  {
   "cell_type": "code",
   "execution_count": null,
   "metadata": {
    "id": "6MX6sL3KO4eS"
   },
   "outputs": [],
   "source": [
    "player_features = (\n",
    "    'Acceleration', 'Aggression', 'Agility', \n",
    "    'Balance', 'BallControl', 'Composure', \n",
    "    'Crossing', 'Dribbling', 'FKAccuracy', \n",
    "    'Finishing', 'GKDiving', 'GKHandling', \n",
    "    'GKKicking', 'GKPositioning', 'GKReflexes', \n",
    "    'HeadingAccuracy', 'Interceptions', 'Jumping', \n",
    "    'LongPassing', 'LongShots', 'Marking', 'Penalties'\n",
    ")\n",
    "\n",
    "# We can see the top three features per position:\n",
    "\n",
    "for i, val in fifa.groupby(fifa['Position'])[player_features].mean().iterrows():\n",
    "    print('Position {}: {}, {}, {}'.format(i, *tuple(val.nlargest(3).index)))"
   ]
  },
  {
   "cell_type": "markdown",
   "metadata": {
    "id": "BREy76MTbR-t"
   },
   "source": [
    "Let us simplify the above positions into 4 simple categories of - **Forwards**, **Midfielders**, **Defenders** and **GoalKeepers**"
   ]
  },
  {
   "cell_type": "code",
   "execution_count": null,
   "metadata": {
    "id": "tI1wAeTqRMxY"
   },
   "outputs": [],
   "source": [
    "def position_classifier(val):\n",
    "    \n",
    "    if val == 'RF' or val == 'ST' or val == 'LF' or val == 'RS' or val == 'LS' or val == 'CF':\n",
    "        val = 'Forward'\n",
    "        return val\n",
    "        \n",
    "    elif val == 'LW' or val == 'RCM' or val == 'LCM' or val == 'LDM' or val == 'CAM' or val == 'CDM' or val == 'RM' \\\n",
    "         or val == 'LAM' or val == 'LM' or val == 'RDM' or val == 'RW' or val == 'CM' or val == 'RAM':\n",
    "        val = 'Midfielder'\n",
    "        return val\n",
    "\n",
    "    \n",
    "    elif val == 'RCB' or val == 'CB' or val == 'LCB' or val == 'LB' or val == 'RB' or val == 'RWB' or val == 'LWB':\n",
    "        val = 'Defender'\n",
    "        return val\n",
    "    \n",
    "    else:\n",
    "        return val"
   ]
  },
  {
   "cell_type": "code",
   "execution_count": null,
   "metadata": {
    "id": "-gjRVGBVbuEf"
   },
   "outputs": [],
   "source": [
    "fifa['Position'] = fifa['Position'].apply(position_classifier)\n",
    "fifa['Position'].value_counts()"
   ]
  },
  {
   "cell_type": "markdown",
   "metadata": {
    "id": "crQI1AOlb5db"
   },
   "source": [
    "Plotting a few visualizations which give us more information about the aggregated positions"
   ]
  },
  {
   "cell_type": "code",
   "execution_count": null,
   "metadata": {
    "id": "_jKzxxd9b89X"
   },
   "outputs": [],
   "source": [
    "ccc = go.Pie(values=fifa['Position'].value_counts().values,\n",
    "                labels=fifa['Position'].value_counts().index.values,\n",
    "                hole=0.3\n",
    "               )\n",
    " \n",
    "\n",
    "layout = go.Layout(title='<b>Distribution of Players Position-Wise</b>')\n",
    "\n",
    "fig = go.Figure(data=[ccc], layout=layout)\n",
    "py.iplot(fig)"
   ]
  },
  {
   "cell_type": "code",
   "execution_count": null,
   "metadata": {
    "id": "UcaQ4-eWcXz5"
   },
   "outputs": [],
   "source": [
    "plt.figure(figsize=(12, 8))\n",
    "\n",
    "\n",
    "f, axes = plt.subplots(2, 2, figsize=(15, 15), sharex=False)\n",
    "sns.despine(left=True)\n",
    "\n",
    "sns.boxplot('Position', 'Overall', data = fifa, ax=axes[0, 0])\n",
    "sns.boxplot('Position', 'Age', data = fifa, ax=axes[0, 1])\n",
    "\n",
    "sns.boxplot('Position', 'Height in Cms', data = fifa, ax=axes[1, 1])\n",
    "sns.boxplot('Position', 'Weight in Pounds', data = fifa, ax=axes[1, 0])"
   ]
  },
  {
   "cell_type": "markdown",
   "metadata": {
    "id": "YyV2G0GFeTm1"
   },
   "source": [
    "The overall ratings of goalkeepers is slightly low.\n",
    "\n",
    "---\n",
    "\n",
    "\n",
    "Defenders & goalkeepers have a smaller deviation in Age.\n",
    "\n",
    "---\n",
    "\n",
    "\n",
    "Midfielder tends to be shorter and lighter since they need to be more flexible in passing and dribbling.\n",
    "\n",
    "---\n",
    "\n",
    "Also, height and weight of goalkeepers is the most."
   ]
  },
  {
   "cell_type": "code",
   "execution_count": null,
   "metadata": {
    "id": "gDI-_xUye1Vd"
   },
   "outputs": [],
   "source": [
    "f, axes = plt.subplots(ncols= 2, figsize=(30, 10), sharex=False)\n",
    "sns.despine(left=True)\n",
    "\n",
    "sns.boxplot('Position', 'Wage in Pounds', data = fifa, showfliers=False, ax=axes[0])\n",
    "sns.boxplot('Position', 'Value in Pounds', data = fifa, showfliers=False, ax=axes[1])"
   ]
  },
  {
   "cell_type": "markdown",
   "metadata": {
    "id": "5r_RF4GxgnqN"
   },
   "source": [
    "Strikers tend to have the highest wages and value\n",
    "\n",
    "Goalkeepers have the lowest."
   ]
  },
  {
   "cell_type": "code",
   "execution_count": null,
   "metadata": {
    "id": "-uuPhV3Rgw2I"
   },
   "outputs": [],
   "source": [
    "plt.figure(figsize=(10,5))\n",
    "\n",
    "a = fifa[fifa['Position'] == 'Forward']\n",
    "b = fifa[fifa['Position'] == 'Defender']\n",
    "c = fifa[fifa['Position'] == 'Midfielder']\n",
    "d = fifa[fifa['Position'] == 'GK']\n",
    "\n",
    "sns.distplot(a['Skill Moves'], color='blue', label = 'Forward', kde=False)\n",
    "sns.distplot(b['Skill Moves'], color='red', label = 'Defender',  kde=False)\n",
    "sns.distplot(c['Skill Moves'], color='green', label = 'Midfielder',  kde=False)\n",
    "sns.distplot(d['Skill Moves'], color='orange', label = 'GK',  kde=False)\n",
    "\n",
    "plt.legend(fontsize = 'xx-large')"
   ]
  },
  {
   "cell_type": "markdown",
   "metadata": {
    "id": "eVDwUdLrsxpu"
   },
   "source": [
    "Defenders & goalkeepers have lower skill moves score compared to Strikers and Midfielders, which could be one of the reasons why Defender & goalkeeper values are less than the other two positions."
   ]
  },
  {
   "cell_type": "code",
   "execution_count": null,
   "metadata": {
    "id": "ESDJSCMEtA5K"
   },
   "outputs": [],
   "source": [
    "#We are choosing 6 attributes here. We are grouping the data by Position and finding the average of our 6 attributes.\n",
    "df_skills = fifa.groupby(by='Position')['Crossing', 'Finishing', 'FKAccuracy', \n",
    "                            'StandingTackle', 'Marking', 'Interceptions'].mean().reset_index()"
   ]
  },
  {
   "cell_type": "code",
   "execution_count": null,
   "metadata": {
    "id": "DIvn7RKrtcCX"
   },
   "outputs": [],
   "source": [
    "forward = go.Scatterpolar(theta=['Crossing', 'Finishing', 'FKAccuracy', \n",
    "                                 'StandingTackle', 'Marking', 'Interceptions',\n",
    "                                 'Crossing'\n",
    "                                ],\n",
    "                          r=df_skills[df_skills['Position'] == 'Forward'][['Crossing', 'Finishing', 'FKAccuracy', \n",
    "                                                                     'StandingTackle', 'Marking', 'Interceptions',\n",
    "                                                                     'Crossing'\n",
    "                                                                    ]].values[0],\n",
    "                          fill='toself',\n",
    "                          name='Forwards'\n",
    "                         )\n",
    "\n",
    "midfielder = go.Scatterpolar(theta=['Crossing', 'Finishing', 'FKAccuracy', \n",
    "                                 'StandingTackle', 'Marking', 'Interceptions',\n",
    "                                 'Crossing'\n",
    "                                ],\n",
    "                          r=df_skills[df_skills['Position'] == 'Midfielder'][['Crossing', 'Finishing', 'FKAccuracy', \n",
    "                                                                     'StandingTackle', 'Marking', 'Interceptions',\n",
    "                                                                     'Crossing'\n",
    "                                                                    ]].values[0],\n",
    "                          fill='toself',\n",
    "                          name='Midfielders'\n",
    "                         )\n",
    "\n",
    "defender = go.Scatterpolar(theta=['Crossing', 'Finishing', 'FKAccuracy', \n",
    "                                 'StandingTackle', 'Marking', 'Interceptions',\n",
    "                                 'Crossing'\n",
    "                                ],\n",
    "                          r=df_skills[df_skills['Position'] == 'Defender'][['Crossing', 'Finishing', 'FKAccuracy', \n",
    "                                                                     'StandingTackle', 'Marking', 'Interceptions',\n",
    "                                                                     'Crossing'\n",
    "                                                                    ]].values[0],\n",
    "                          fill='toself',\n",
    "                          name='Defenders'\n",
    "                         )\n",
    "\n",
    "\n",
    "goalkeeper = go.Scatterpolar(theta=['Crossing', 'Finishing', 'FKAccuracy', \n",
    "                                 'StandingTackle', 'Marking', 'Interceptions',\n",
    "                                 'Crossing'\n",
    "                                ],\n",
    "                          r=df_skills[df_skills['Position'] == 'GK'][['Crossing', 'Finishing', 'FKAccuracy', \n",
    "                                                                     'StandingTackle', 'Marking', 'Interceptions',\n",
    "                                                                     'Crossing'\n",
    "                                                                    ]].values[0],\n",
    "                          fill='toself',\n",
    "                          name='Goal Keepers'\n",
    "                         )\n",
    "\n",
    "layout = go.Layout(polar=dict(radialaxis=dict(visible=True,\n",
    "                                              range=[0, 100]\n",
    "                                             )\n",
    "                             \n",
    "                             ),\n",
    "                   showlegend=True,\n",
    "                   title='<b>Attributes by Position</b>'\n",
    "                  )\n",
    "\n",
    "fig = go.Figure(data=[forward, midfielder, defender, goalkeeper], layout=layout)\n",
    "py.iplot(fig)\n"
   ]
  },
  {
   "cell_type": "markdown",
   "metadata": {
    "id": "ahXcGtiIuFWu"
   },
   "source": [
    "No surprise with Defenders getting the highest ratings in defending attributes such as StandingTackle, Marking and Interceptions.\n",
    "\n",
    "Midfielders seem like all rounders. They are good at everything but excel in Crossing and FKAccuracy.\n",
    "\n",
    "Forwards' main job is to score goals. Hence, it is expected they score the highest in Finishing."
   ]
  },
  {
   "cell_type": "markdown",
   "metadata": {
    "id": "ntaj30Vgu87e"
   },
   "source": [
    "\n",
    "## **Now, we do classification based on player positions**\n",
    "\n"
   ]
  },
  {
   "cell_type": "code",
   "execution_count": null,
   "metadata": {
    "id": "S78QUDRILuFT"
   },
   "outputs": [],
   "source": []
  },
  {
   "cell_type": "code",
   "execution_count": null,
   "metadata": {
    "id": "z0OByYj_vGCn"
   },
   "outputs": [],
   "source": [
    "#Transforming categorical feature into numeric.\n",
    "#GoalKeeper = 0\n",
    "#Defender = 1\n",
    "#Midfielder = 2\n",
    "#Forward = 3\n",
    "def pos_numeric(val):\n",
    "    if val == 'GK':\n",
    "        return 0\n",
    "    elif val == 'Defender':\n",
    "        return 1\n",
    "    elif val == 'Midfielder':\n",
    "        return 2\n",
    "    else:\n",
    "        return 3\n",
    "    \n",
    "fifa['Position'] = fifa['Position'].apply(pos_numeric)"
   ]
  },
  {
   "cell_type": "code",
   "execution_count": null,
   "metadata": {
    "id": "AyKke0GkvW4q"
   },
   "outputs": [],
   "source": [
    "fifa_replica = fifa.copy()\n",
    "\n",
    "#Dropping unnecessary columns\n",
    "fifa_replica.drop(columns=['Age','Photo','Name', 'Nationality', 'Flag','Club', 'Club Logo', 'Special', 'Real Face', \n",
    "                    'Special', 'Preferred Foot', 'International Reputation', 'Work Rate', 'Body Type', 'Jersey Number',\n",
    "                   'Contract Valid Until', 'Unnamed: 0','LS','ST','RS','LW','LF','CF','RF','RW','LAM','CAM','RAM','LM','LCM','CM','RCM','RM',\n",
    "                   'LWB','LDM','CDM','RDM','RWB','LB','LCB','CB','RCB','RB'], inplace=True)\n",
    "\n",
    "fifa_replica.head().T"
   ]
  },
  {
   "cell_type": "code",
   "execution_count": null,
   "metadata": {
    "id": "ntvFM9yWzIex"
   },
   "outputs": [],
   "source": [
    "fifa_replica.shape"
   ]
  },
  {
   "cell_type": "code",
   "execution_count": null,
   "metadata": {
    "id": "EYZcrcnz0aKg"
   },
   "outputs": [],
   "source": [
    "X = fifa_replica.drop(columns=['Position'])\n",
    "X = pd.get_dummies(X)\n",
    "y = fifa_replica['Position']"
   ]
  },
  {
   "cell_type": "code",
   "execution_count": null,
   "metadata": {
    "id": "zcdaa2CU0tcX"
   },
   "outputs": [],
   "source": [
    "from sklearn.model_selection import train_test_split"
   ]
  },
  {
   "cell_type": "code",
   "execution_count": null,
   "metadata": {
    "id": "55n38x120urj"
   },
   "outputs": [],
   "source": [
    "#Splitting dataset into train and test sets.\n",
    "X_train, X_test, y_train, y_test = train_test_split(X, y, test_size=0.2, random_state=42)\n",
    "\n",
    "print(X_train)"
   ]
  }
 ],
 "metadata": {
  "colab": {
   "collapsed_sections": [],
   "name": "DM Project.ipynb",
   "provenance": []
  },
  "kernelspec": {
   "display_name": "Python 3",
   "language": "python",
   "name": "python3"
  },
  "language_info": {
   "codemirror_mode": {
    "name": "ipython",
    "version": 3
   },
   "file_extension": ".py",
   "mimetype": "text/x-python",
   "name": "python",
   "nbconvert_exporter": "python",
   "pygments_lexer": "ipython3",
   "version": "3.8.8"
  }
 },
 "nbformat": 4,
 "nbformat_minor": 1
}
