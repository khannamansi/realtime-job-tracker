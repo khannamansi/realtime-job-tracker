{
 "cells": [
  {
   "cell_type": "markdown",
   "id": "18aaca8f",
   "metadata": {},
   "source": [
    "# GCD: Euclid's Algorithm and Bezout's identity \n",
    "The recursive version"
   ]
  },
  {
   "cell_type": "code",
   "execution_count": 1,
   "id": "7063fdb4",
   "metadata": {},
   "outputs": [],
   "source": [
    "def rgcd(a,b):  \n",
    "    if a==0 and b==0:\n",
    "        raise Exception (f\"both a {a} and b {b} cannot be zero\")\n",
    "    if a==0:\n",
    "        return b,0,1\n",
    "    if b==0:\n",
    "        return a,1,0\n",
    "    if a==1:\n",
    "        return 1,1,0\n",
    "    if b==1:\n",
    "        return 1,0,1\n",
    "    if b<a:\n",
    "        g,x,y=rgcd(b,a%b)\n",
    "        return g,y,x-y*(a//b)\n",
    "    else:\n",
    "        g,x,y=rgcd(a,b%a)\n",
    "        return g,x-y*(b//a)  ,y\n",
    "    "
   ]
  },
  {
   "cell_type": "code",
   "execution_count": 172,
   "id": "d93a7591",
   "metadata": {},
   "outputs": [
    {
     "data": {
      "text/plain": [
       "(1, 29, -26)"
      ]
     },
     "execution_count": 172,
     "metadata": {},
     "output_type": "execute_result"
    }
   ],
   "source": [
    "rgcd(87,97) "
   ]
  },
  {
   "cell_type": "markdown",
   "id": "95cb909d",
   "metadata": {},
   "source": [
    "# GCD: Euclid's Algorithm and Bezout's identity \n",
    "The iterative version"
   ]
  },
  {
   "cell_type": "code",
   "execution_count": 3,
   "id": "c97b7e07",
   "metadata": {},
   "outputs": [],
   "source": [
    "# -*- coding: utf-8 -*-\n",
    "\"\"\"\n",
    "Created on Thu Oct 31 22:01:57 2019\n",
    "\n",
    "@author: alizadeh\n",
    "\"\"\"\n",
    "# From wikibooks:\n",
    "def xgcd(a, b):\n",
    "    \"\"\"return (g, x, y) such that a*x + b*y = g = gcd(a, b)\"\"\"\n",
    "    x0, x1, y0, y1 = 0, 1, 1, 0\n",
    "    while a != 0:\n",
    "        q, b, a = b // a, a, b % a\n",
    "        y0, y1 = y1, y0 - q * y1\n",
    "        x0, x1 = x1, x0 - q * x1\n",
    "    return b, x0, y0\n"
   ]
  },
  {
   "cell_type": "code",
   "execution_count": 4,
   "id": "c2f8a24c",
   "metadata": {},
   "outputs": [
    {
     "data": {
      "text/plain": [
       "(1, 29, -26)"
      ]
     },
     "execution_count": 4,
     "metadata": {},
     "output_type": "execute_result"
    }
   ],
   "source": [
    "xgcd(87,97)"
   ]
  },
  {
   "cell_type": "markdown",
   "id": "69afaf24",
   "metadata": {},
   "source": [
    "# Power $x^n \\mod n$ by Repeated Squaring"
   ]
  },
  {
   "cell_type": "code",
   "execution_count": 34,
   "id": "be7ed80e",
   "metadata": {},
   "outputs": [],
   "source": [
    "\"\"\"\n",
    "Created on Thu Oct 31 10:43:53 2019\n",
    "Thi script implements the rpeate squaring algorithm\n",
    "- parameters: integer x, n, m\n",
    "- output: x**n % m\n",
    "\n",
    "Note: This script is for demonmstration. Python has a buil-in function pow(x,n,m) with m \n",
    "optional that does exactly the same thing\n",
    "@author: alizadeh\n",
    "\"\"\"\n",
    "\n",
    "# Find integer power x^n mod m by repeated squaring algorithm\n",
    "def power(x, n, m):\n",
    "    import numpy as np\n",
    "    if n==0: return 1\n",
    "    if n==1: return x%m\n",
    "    if n==np.Inf: raise Exception(\"n ii infinite\")\n",
    "    c=0\n",
    "    d=1\n",
    "    nn=list(bin(n))\n",
    "    nn=nn[2:len(nn)]\n",
    "\n",
    "    import numpy as np\n",
    "    #k=int(np.ceil(np.log2(n)))\n",
    "    k=len(bin(n))\n",
    "    #tobin=lambda x: (x=='1')-(x=='0')#returns 1 if ==1, and -1 if ==0\n",
    "    for i in range(k,-1,-1):\n",
    "        c=2*c\n",
    "        d=d*d % m\n",
    "        #if (nn[i]=='1'):\n",
    "        if((n & 2**i) > 0):\n",
    "            c=c+1\n",
    "            d=(d*x) % m\n",
    "    return(d)\n"
   ]
  },
  {
   "cell_type": "code",
   "execution_count": 35,
   "id": "7ae168d5",
   "metadata": {},
   "outputs": [
    {
     "data": {
      "text/plain": [
       "1"
      ]
     },
     "execution_count": 35,
     "metadata": {},
     "output_type": "execute_result"
    }
   ],
   "source": [
    "power(10,100,11)"
   ]
  },
  {
   "cell_type": "markdown",
   "id": "2cfcc9ff",
   "metadata": {},
   "source": [
    "# Four algorithms for prime numbers"
   ]
  },
  {
   "cell_type": "markdown",
   "id": "469b916b",
   "metadata": {},
   "source": [
    "- the first one is the sieve of Eratosthenes\n"
   ]
  },
  {
   "cell_type": "code",
   "execution_count": 6,
   "id": "8c395a0d",
   "metadata": {},
   "outputs": [],
   "source": [
    "def sieve(N):\n",
    "    \"\"\"\n",
    "    Implementation of the Sieve of Eratosthenes\n",
    "    Get all primes lless than or equal to N\n",
    "    returns two np arrays:\n",
    "    - a 0-1 array of length N where i'th entry is 1 if i is a prime and zero otherwise\n",
    "    - an array of primes less than N\n",
    "    \"\"\"\n",
    "    import numpy as np\n",
    "    NN=int(np.floor(np.sqrt(N)))\n",
    "    ls=np.ones((N),dtype=int)\n",
    "    ls[0],ls[1]=0,0\n",
    "    for k in range(2,NN):\n",
    "        if ls[k]>0:\n",
    "            #for i in range(2*k,N,k):\n",
    "            #    ls[i]=0\n",
    "            ls[range(2*k,N,k)]=0\n",
    "\n",
    "    return ls,np.where(ls==1)"
   ]
  },
  {
   "cell_type": "code",
   "execution_count": 58,
   "id": "7ddde842",
   "metadata": {},
   "outputs": [
    {
     "name": "stdout",
     "output_type": "stream",
     "text": [
      "[0 0 1 1 0 1 0 1 0 0 0 1 0 1 0 0 0 1 0 1 0 0 0 1 0 0 0 0 0 1 0 1 0 0 0 0 0\n",
      " 1 0 0 0 1 0 1 0 0 0 1 0 0 0 0 0 1 0 0 0 0 0 1 0 1 0 0 0 0 0 1 0 0 0 1 0 1\n",
      " 0 0 0 0 0 1 0 0 0 1 0 0 0 0 0 1 0 0 0 0 0 0 0 1 0 0]\n",
      "(array([ 2,  3,  5,  7, 11, 13, 17, 19, 23, 29, 31, 37, 41, 43, 47, 53, 59,\n",
      "       61, 67, 71, 73, 79, 83, 89, 97], dtype=int64),)\n"
     ]
    }
   ],
   "source": [
    "b,r=sieve(100)\n",
    "print(b)\n",
    "print(r)"
   ]
  },
  {
   "cell_type": "markdown",
   "id": "9d915ef8",
   "metadata": {},
   "source": [
    "# Two randomized algorithms for determining whether a number is prime\n",
    "- Using Fermat's theorem to test for primality (naive, will fail for Carmichael numbers)\n",
    "- The Rabin-Miller algorithm (More sophisticated and accurate)"
   ]
  },
  {
   "cell_type": "code",
   "execution_count": 135,
   "id": "f8fbe0f6",
   "metadata": {},
   "outputs": [],
   "source": [
    "def is_prime(p,k=None):\n",
    "    \"\"\"\n",
    "    Checking prinmes by the Fermat Little Theorem test (fails for Carmichael numbers)\n",
    "    \"\"\"\n",
    "    import numpy as np\n",
    "    #from powers import pow\n",
    "\n",
    "    if k==None:\n",
    "        k,pp=1,p\n",
    "        while pp >1:\n",
    "            pp //=2\n",
    "            k+=1\n",
    "    #print(\"k= \",k,\"pp= \",pp)\n",
    "    for i in range(k):\n",
    "        #a=int(np.random.uniform(0,1)*(p-2)+2)\n",
    "        a=np.random.randint(2,p)\n",
    "        if power(a,p-1,p)>1:\n",
    "            #print(\"i =\", i, \"a= \", a)\n",
    "            return False\n",
    "\n",
    "    return True\n",
    "\n",
    "def miller_Rabin(p, k=None):\n",
    "    \"\"\"\n",
    "    A randomized algorithm which works fine\n",
    "    \"\"\"\n",
    "    import  numpy as np\n",
    "    #The power function (n**k % n) must be availabe\n",
    "\n",
    "    if (p<=3):\n",
    "        if p==2 or p==3:\n",
    "            return True\n",
    "        else:\n",
    "            return False\n",
    "\n",
    "    if k==None: #determine number of bits of k\n",
    "        k,pp=1,p\n",
    "        while pp >1:\n",
    "            pp //=2\n",
    "            k+=1\n",
    "    r,d=0,p-1\n",
    "    while d % 2 == 0:\n",
    "        d,r=d//2,r+1\n",
    "    #print(\"r, d = \",r,d, \"p=\",p, \"2^r*d+1\", 2**r*d+1)\n",
    "    #print(\"k= \"+str(k))\n",
    "    for i in range(10*k):\n",
    "        a=int(np.random.uniform(0,1)*(p-4)+2)\n",
    "        x=power(a,d,p)\n",
    "        #print(\"x= \"+str(x)+\" a= \"+str(a)+\" d=\"+str(d)+\" r=\"+str(r))\n",
    "        if x==1 or x==p-1:\n",
    "            continue\n",
    "\n",
    "        rep=False\n",
    "        for j in range(r-1):\n",
    "            x=x*x % p\n",
    "            #print(\"x= \"+str(x))\n",
    "            if x == (p-1):\n",
    "                rep=True\n",
    "        if rep:\n",
    "            continue\n",
    "        return False\n",
    "    return True"
   ]
  },
  {
   "cell_type": "code",
   "execution_count": 171,
   "id": "71dc9694",
   "metadata": {},
   "outputs": [
    {
     "name": "stdout",
     "output_type": "stream",
     "text": [
      "'561 is prime' declared by simple method as False\n",
      "'561 is prime' declared by Miller-Rabin method as False\n",
      "'563 is prime' declared by simple method as True\n",
      "'563 is prime' declared by Miller-Rabin method as True\n"
     ]
    }
   ],
   "source": [
    "p1=561\n",
    "p2=563\n",
    "print(f\"\\'{p1} is prime\\' declared by simple method as {is_prime(p1)}\")\n",
    "print(f\"\\'{p1} is prime\\' declared by Miller-Rabin method as {miller_Rabin(p1)}\")\n",
    "print(f\"\\'{p2} is prime\\' declared by simple method as {is_prime(p2)}\")\n",
    "print(f\"\\'{p2} is prime\\' declared by Miller-Rabin method as {miller_Rabin(2)}\")"
   ]
  },
  {
   "cell_type": "markdown",
   "id": "8bb05429",
   "metadata": {},
   "source": [
    "# An algorithm for finding a prime number between two given values"
   ]
  },
  {
   "cell_type": "code",
   "execution_count": 151,
   "id": "0a3f0483",
   "metadata": {},
   "outputs": [],
   "source": [
    "def find_prime(low, high):\n",
    "    \"\"\"\n",
    "    Find a prime numer between low and high \n",
    "    \"\"\"\n",
    "    import numpy as np\n",
    "\n",
    "    k,pp=1,high\n",
    "    while pp>1:\n",
    "        pp//=2\n",
    "        k+=1\n",
    "    count=0\n",
    "    while True:\n",
    "        #p=int(np.random.uniform(0,1)*(high-low)+low)\n",
    "        p=np.random.randint(high-low)+low # A random number between loq and high\n",
    "        if miller_Rabin(p):\n",
    "            return p,count,k\n",
    "        count+=1\n",
    "        #if count>1000*k:\n",
    "        #    raise Exception(\"maximum iterations exceeded: k=\"+str(k)+\" count= \"+str(count))"
   ]
  },
  {
   "cell_type": "code",
   "execution_count": 160,
   "id": "3a0475fa",
   "metadata": {},
   "outputs": [
    {
     "name": "stdout",
     "output_type": "stream",
     "text": [
      "prime number: 2830064411, in binary: 10101000101011110101101100011011, trials: 17\n"
     ]
    },
    {
     "data": {
      "text/plain": [
       "0.039851514150170186"
      ]
     },
     "execution_count": 160,
     "metadata": {},
     "output_type": "execute_result"
    }
   ],
   "source": [
    "p,count,k=find_prime(2**31,2**32)\n",
    "print(f\"prime number: {p}, in binary: {bin(p)[2:]}, trials: {count}\")\n",
    "np.random.uniform()"
   ]
  }
 ],
 "metadata": {
  "kernelspec": {
   "display_name": "Python 3",
   "language": "python",
   "name": "python3"
  },
  "language_info": {
   "codemirror_mode": {
    "name": "ipython",
    "version": 3
   },
   "file_extension": ".py",
   "mimetype": "text/x-python",
   "name": "python",
   "nbconvert_exporter": "python",
   "pygments_lexer": "ipython3",
   "version": "3.8.8"
  }
 },
 "nbformat": 4,
 "nbformat_minor": 5
}
