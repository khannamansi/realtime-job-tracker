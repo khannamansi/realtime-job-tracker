{
 "cells": [
  {
   "cell_type": "code",
   "execution_count": 2,
   "id": "882f9277",
   "metadata": {},
   "outputs": [
    {
     "name": "stderr",
     "output_type": "stream",
     "text": [
      "<ipython-input-2-979cffc91e64>:10: SettingWithCopyWarning: \n",
      "A value is trying to be set on a copy of a slice from a DataFrame\n",
      "\n",
      "See the caveats in the documentation: https://pandas.pydata.org/pandas-docs/stable/user_guide/indexing.html#returning-a-view-versus-a-copy\n",
      "  privacyInfo_df['privacyLevel'][I1]= 2\n",
      "<ipython-input-2-979cffc91e64>:12: SettingWithCopyWarning: \n",
      "A value is trying to be set on a copy of a slice from a DataFrame\n",
      "\n",
      "See the caveats in the documentation: https://pandas.pydata.org/pandas-docs/stable/user_guide/indexing.html#returning-a-view-versus-a-copy\n",
      "  privacyInfo_df['privacyLevel'][I1]= 4\n"
     ]
    }
   ],
   "source": [
    "import numpy as np\n",
    "import pandas as pd\n",
    "import matplotlib.pyplot as plt\n",
    "import seaborn as sns\n",
    "%matplotlib inline\n",
    "privacyInfo_df = pd.read_csv('/Users/mansikhanna/Downloads/data4analysis.csv',delimiter=',')\n",
    "\n",
    "# Comment the follwoing to get all privacy levels\n",
    "I1 = privacyInfo_df['privacyLevel']<= 2\n",
    "privacyInfo_df['privacyLevel'][I1]= 2\n",
    "I1 = privacyInfo_df['privacyLevel']>= 4\n",
    "privacyInfo_df['privacyLevel'][I1]= 4\n",
    "\n",
    "#df = pd.read_csv(\"/Users/mansikhanna/Downloads/data4analysis.csv'\")\n",
    "#df.head()"
   ]
  },
  {
   "cell_type": "code",
   "execution_count": 3,
   "id": "e3503776",
   "metadata": {},
   "outputs": [
    {
     "name": "stdout",
     "output_type": "stream",
     "text": [
      "[3 2 4]\n"
     ]
    }
   ],
   "source": [
    "print(privacyInfo_df['privacyLevel'].unique())"
   ]
  },
  {
   "cell_type": "code",
   "execution_count": null,
   "id": "14b70a0e",
   "metadata": {},
   "outputs": [],
   "source": []
  }
 ],
 "metadata": {
  "kernelspec": {
   "display_name": "Python 3",
   "language": "python",
   "name": "python3"
  },
  "language_info": {
   "codemirror_mode": {
    "name": "ipython",
    "version": 3
   },
   "file_extension": ".py",
   "mimetype": "text/x-python",
   "name": "python",
   "nbconvert_exporter": "python",
   "pygments_lexer": "ipython3",
   "version": "3.8.8"
  }
 },
 "nbformat": 4,
 "nbformat_minor": 5
}
